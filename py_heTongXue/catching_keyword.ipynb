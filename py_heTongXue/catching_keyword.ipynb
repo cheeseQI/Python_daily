{
 "cells": [
  {
   "cell_type": "code",
   "execution_count": 2,
   "metadata": {},
   "outputs": [],
   "source": [
    "'''\n",
    "爬取 B 站弹幕\n",
    "'''\n",
    "import requests, pandas as pd\n",
    "from bs4 import BeautifulSoup\n",
    "\n",
    "url = \"http://comment.bilibili.com/376435111.xml\"\n",
    "req = requests.get(url)  # Get url with the help of request library\n",
    "html = req.content     # Get Content of the html page\n",
    "html_doc = str(html, \"utf-8\")  # Get content to string，编码格式为utf-8\n",
    "# 解析\n",
    "soup = BeautifulSoup(html_doc, \"lxml\") # using lxml 解析 刚刚的str内容 with help of bs\n",
    "results = soup.find_all('d') # return all tag called \"d\" (dan mu) in a list\n",
    "contents = [x.text for x in results] #list the list in array\n",
    "# 保存结果\n",
    "dic = {\"contents\": contents} # save content into dictionary, value is array and key named contents\n",
    "df = pd.DataFrame(dic) #save dic to Dataframe with the help of panda library\n",
    "df[\"contents\"].to_csv(\"heTongXue.csv\", encoding=\"utf-8\", index=False) #convert and save to csv"
   ]
  },
  {
   "cell_type": "code",
   "execution_count": 3,
   "metadata": {},
   "outputs": [
    {
     "name": "stderr",
     "output_type": "stream",
     "text": [
      "Building prefix dict from the default dictionary ...\n",
      "Dumping model to file cache F:\\user\\Temp\\jieba.cache\n",
      "Loading model cost 1.190 seconds.\n",
      "Prefix dict has been built successfully.\n"
     ]
    }
   ],
   "source": [
    "'''\n",
    "生成词云\n",
    "'''\n",
    "from wordcloud import WordCloud\n",
    "import numpy as np, jieba\n",
    "from PIL import Image\n",
    "\n",
    "def jieba_(): #define a function used to \n",
    "    stop_words = [] #create a empty array to store the stopwords\n",
    "    with open('stopwords.txt', 'r', encoding='utf-8') as f: #open stopwords file in utf-8\n",
    "        lines = f.readlines() #read all lines of file\n",
    "        for line in lines:\n",
    "            stop_words.append(line.strip()) #append every line except the line with no content,  into empty array \n",
    "    content = open('heTongXue.csv', 'rb').read() #move the words of dan mu to content\n",
    "    # jieba 分词\n",
    "    word_list = jieba.cut(content) #cut content \n",
    "    words = [] \n",
    "    for word in word_list:\n",
    "        if word not in stop_words: # if the word is not stopwords, we append them in to words[] one by one, otherwise we do not append.\n",
    "            words.append(word)\n",
    "    global word_cloud\n",
    "    # 用逗号隔开词语\n",
    "    word_cloud = '，'.join(words) #use comma to divide words one by one \n",
    "\n",
    "def cloud():\n",
    "    # 打开词云背景图\n",
    "    cloud_mask = np.array(Image.open('head.PNG'))\n",
    "    # 定义词云的一些属性\n",
    "    wc = WordCloud(\n",
    "        # 背景图分割颜色为白色\n",
    "        background_color='white',\n",
    "        # 背景图样\n",
    "        mask=cloud_mask,\n",
    "        # 显示最大词数\n",
    "        max_words=300,\n",
    "        # 显示中文\n",
    "        font_path='./fonts/simhei.ttf',\n",
    "        # 最大尺寸\n",
    "        max_font_size=80\n",
    "    )\n",
    "    global word_cloud\n",
    "    # 词云函数\n",
    "    x = wc.generate(word_cloud)\n",
    "    # 生成词云图片\n",
    "    image = x.to_image()\n",
    "    # 展示词云图片\n",
    "    image.show()\n",
    "    # 保存词云图片\n",
    "    wc.to_file('cloud.png')\n",
    "\n",
    "jieba_()\n",
    "cloud()"
   ]
  },
  {
   "cell_type": "code",
   "execution_count": null,
   "metadata": {},
   "outputs": [],
   "source": []
  }
 ],
 "metadata": {
  "kernelspec": {
   "display_name": "Python 3",
   "language": "python",
   "name": "python3"
  },
  "language_info": {
   "codemirror_mode": {
    "name": "ipython",
    "version": 3
   },
   "file_extension": ".py",
   "mimetype": "text/x-python",
   "name": "python",
   "nbconvert_exporter": "python",
   "pygments_lexer": "ipython3",
   "version": "3.7.6"
  }
 },
 "nbformat": 4,
 "nbformat_minor": 2
}
